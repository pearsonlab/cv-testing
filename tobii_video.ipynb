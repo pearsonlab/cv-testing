{
 "cells": [
  {
   "cell_type": "code",
   "execution_count": 1,
   "metadata": {
    "collapsed": true
   },
   "outputs": [],
   "source": [
    "import cv2\n",
    "import numpy as np\n",
    "import pandas as pd\n",
    "from matplotlib import pyplot as plt\n",
    "%matplotlib inline\n",
    "from find_screen_utils import *"
   ]
  },
  {
   "cell_type": "markdown",
   "metadata": {},
   "source": [
    "#Add Gaze Position to Video"
   ]
  },
  {
   "cell_type": "code",
   "execution_count": 13,
   "metadata": {
    "collapsed": false
   },
   "outputs": [],
   "source": [
    "gaze = pd.read_csv('images/tobii/border.csv')\n",
    "vid_sync = pd.read_csv('images/tobii/border_video_sync.csv')"
   ]
  },
  {
   "cell_type": "code",
   "execution_count": 15,
   "metadata": {
    "collapsed": false,
    "scrolled": false
   },
   "outputs": [
    {
     "data": {
      "text/html": [
       "<div>\n",
       "<table border=\"1\" class=\"dataframe\">\n",
       "  <thead>\n",
       "    <tr style=\"text-align: right;\">\n",
       "      <th></th>\n",
       "      <th>Unnamed: 0</th>\n",
       "      <th>VTS time</th>\n",
       "      <th>VTS validity</th>\n",
       "    </tr>\n",
       "  </thead>\n",
       "  <tbody>\n",
       "    <tr>\n",
       "      <th>0</th>\n",
       "      <td>89956352</td>\n",
       "      <td>0</td>\n",
       "      <td>0</td>\n",
       "    </tr>\n",
       "    <tr>\n",
       "      <th>1</th>\n",
       "      <td>90316397</td>\n",
       "      <td>359888</td>\n",
       "      <td>0</td>\n",
       "    </tr>\n",
       "    <tr>\n",
       "      <th>2</th>\n",
       "      <td>149941025</td>\n",
       "      <td>59985688</td>\n",
       "      <td>0</td>\n",
       "    </tr>\n",
       "    <tr>\n",
       "      <th>3</th>\n",
       "      <td>209927788</td>\n",
       "      <td>119971377</td>\n",
       "      <td>0</td>\n",
       "    </tr>\n",
       "    <tr>\n",
       "      <th>4</th>\n",
       "      <td>269912195</td>\n",
       "      <td>179956966</td>\n",
       "      <td>0</td>\n",
       "    </tr>\n",
       "  </tbody>\n",
       "</table>\n",
       "</div>"
      ],
      "text/plain": [
       "   Unnamed: 0   VTS time  VTS validity\n",
       "0    89956352          0             0\n",
       "1    90316397     359888             0\n",
       "2   149941025   59985688             0\n",
       "3   209927788  119971377             0\n",
       "4   269912195  179956966             0"
      ]
     },
     "execution_count": 15,
     "metadata": {},
     "output_type": "execute_result"
    }
   ],
   "source": [
    "vid_sync.head()"
   ]
  },
  {
   "cell_type": "code",
   "execution_count": 16,
   "metadata": {
    "collapsed": true
   },
   "outputs": [],
   "source": [
    "gaze['Vid_Time'] = (gaze['index'] - 89956352)/1000000"
   ]
  },
  {
   "cell_type": "code",
   "execution_count": 18,
   "metadata": {
    "collapsed": false
   },
   "outputs": [],
   "source": [
    "gaze = gaze[gaze.Vid_Time > 0] # only start tracking eyes once video starts"
   ]
  },
  {
   "cell_type": "code",
   "execution_count": 20,
   "metadata": {
    "collapsed": true
   },
   "outputs": [],
   "source": [
    "infile = 'images/tobii/border.mp4'\n",
    "outfile = 'images/tobii/border_gaze.m4v'"
   ]
  },
  {
   "cell_type": "code",
   "execution_count": 21,
   "metadata": {
    "collapsed": false
   },
   "outputs": [],
   "source": [
    "vid = cv2.VideoCapture(infile)\n",
    "\n",
    "size = (1920, 1080)\n",
    "fourcc = cv2.cv.CV_FOURCC(*'mp4v')\n",
    "out = cv2.VideoWriter()\n",
    "out.open(outfile, fourcc, vid.get(cv2.cv.CV_CAP_PROP_FPS)*2, size, True)\n",
    "# note doubled framerate to include all eye tracking coordiantes\n",
    "\n",
    "i = 0\n",
    "gaze_val = gaze['gaze position validity'].values\n",
    "gaze_x = gaze['gaze position x'].values\n",
    "gaze_y = gaze['gaze position y'].values\n",
    "\n",
    "while(vid.isOpened()):\n",
    "    ret, frame = vid.read()\n",
    "    if ret:\n",
    "        for _ in range(2):\n",
    "            frame_cp = frame.copy()\n",
    "            if gaze_val[i] == 0:\n",
    "                gp_x = gaze_x[i]\n",
    "                gp_y = gaze_y[i]\n",
    "                cv2.circle(frame_cp, (int(1920*gp_x), int(1080*gp_y)), 20, [255,0,0], 2)\n",
    "            out.write(frame_cp)\n",
    "            i += 1\n",
    "    else:\n",
    "        break\n",
    "\n",
    "\n",
    "vid.release()\n",
    "out.release()"
   ]
  },
  {
   "cell_type": "markdown",
   "metadata": {},
   "source": [
    "#Extract Screen From Gaze Video"
   ]
  },
  {
   "cell_type": "code",
   "execution_count": 3,
   "metadata": {
    "collapsed": true
   },
   "outputs": [],
   "source": [
    "infile = 'images/tobii/border/border_gaze_dark_dots.mov'\n",
    "outfile = 'images/tobii/border/border_gaze_dark_dots_screen2.m4v'"
   ]
  },
  {
   "cell_type": "code",
   "execution_count": 4,
   "metadata": {
    "collapsed": false
   },
   "outputs": [],
   "source": [
    "vid = cv2.VideoCapture(infile)\n",
    "\n",
    "size = (1280, 720)\n",
    "fourcc = cv2.cv.CV_FOURCC(*'mp4v')\n",
    "out = cv2.VideoWriter()\n",
    "out.open(outfile, fourcc, vid.get(cv2.cv.CV_CAP_PROP_FPS), size, True)\n",
    "\n",
    "last_good = np.zeros((720, 1280, 3), dtype=np.uint8)  # represents the last good frame\n",
    "\n",
    "i = 0\n",
    "while(vid.isOpened()):\n",
    "    ret, frame = vid.read()\n",
    "    if ret:\n",
    "        proc_frame = process_frame_circles(frame)\n",
    "        \n",
    "        if proc_frame is None:  # if screen isn't found, save image of frame\n",
    "            out.write(last_good)  # write the last good frame to the video\n",
    "#             cv2.imwrite('images/tobii/dropped/frame%i.bmp'%(i), frame)\n",
    "        else:  # frame is good\n",
    "            last_good = proc_frame\n",
    "            out.write(proc_frame)\n",
    "        i += 1\n",
    "    else:\n",
    "        break\n",
    "\n",
    "\n",
    "vid.release()\n",
    "out.release()"
   ]
  },
  {
   "cell_type": "code",
   "execution_count": null,
   "metadata": {
    "collapsed": true
   },
   "outputs": [],
   "source": []
  }
 ],
 "metadata": {
  "kernelspec": {
   "display_name": "Python 2",
   "language": "python",
   "name": "python2"
  },
  "language_info": {
   "codemirror_mode": {
    "name": "ipython",
    "version": 2
   },
   "file_extension": ".py",
   "mimetype": "text/x-python",
   "name": "python",
   "nbconvert_exporter": "python",
   "pygments_lexer": "ipython2",
   "version": "2.7.10"
  }
 },
 "nbformat": 4,
 "nbformat_minor": 0
}
