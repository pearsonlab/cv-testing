{
 "cells": [
  {
   "cell_type": "code",
   "execution_count": 1,
   "metadata": {
    "collapsed": true
   },
   "outputs": [],
   "source": [
    "import cv2\n",
    "import numpy as np\n",
    "import pandas as pd\n",
    "from matplotlib import pyplot as plt\n",
    "%matplotlib inline\n",
    "from find_screen_utils import *\n",
    "from find_object_utils import *\n",
    "from __future__ import division"
   ]
  },
  {
   "cell_type": "markdown",
   "metadata": {},
   "source": [
    "#Add Gaze Position to Video"
   ]
  },
  {
   "cell_type": "code",
   "execution_count": 21,
   "metadata": {
    "collapsed": false
   },
   "outputs": [],
   "source": [
    "gaze = pd.read_csv('images/faces/chris_gaze.csv')"
   ]
  },
  {
   "cell_type": "code",
   "execution_count": 10,
   "metadata": {
    "collapsed": false
   },
   "outputs": [],
   "source": [
    "gaze = gaze[~gaze.vts_time.isnull()] # only start tracking eyes once video starts"
   ]
  },
  {
   "cell_type": "code",
   "execution_count": 11,
   "metadata": {
    "collapsed": true
   },
   "outputs": [],
   "source": [
    "infile = 'images/faces/chris_vid.mp4'\n",
    "outfile = 'images/faces/chris_vid_gaze.m4v'"
   ]
  },
  {
   "cell_type": "code",
   "execution_count": 19,
   "metadata": {
    "collapsed": false
   },
   "outputs": [],
   "source": [
    "vid = cv2.VideoCapture(infile)\n",
    "\n",
    "size = (1920, 1080)\n",
    "fourcc = cv2.cv.CV_FOURCC(*'mp4v')\n",
    "out = cv2.VideoWriter()\n",
    "out.open(outfile, fourcc, vid.get(cv2.cv.CV_CAP_PROP_FPS)*2, size, True)\n",
    "# note doubled framerate b/c eye tracking is at double the sampling rate as video\n",
    "\n",
    "i = 0\n",
    "gaze_val = gaze['gaze_pos_val'].values\n",
    "gaze_x = gaze['gaze_pos_x'].values\n",
    "gaze_y = gaze['gaze_pos_y'].values\n",
    "vts = gaze['vts_time'].values/1000.\n",
    "\n",
    "while(vid.isOpened()):\n",
    "    ret, frame = vid.read()\n",
    "    vid_time = vid.get(cv2.cv.CV_CAP_PROP_POS_MSEC)\n",
    "    if ret:\n",
    "        while vts[i] < vid_time:\n",
    "            frame_cp = frame.copy()\n",
    "            if gaze_val[i] == 0:\n",
    "                gp_x = gaze_x[i]\n",
    "                gp_y = gaze_y[i]\n",
    "                cv2.circle(frame_cp, (int(1920*gp_x), int(1080*gp_y)), 8, [255,0,0], -2)\n",
    "            out.write(frame_cp)\n",
    "            i += 1\n",
    "    else:\n",
    "        break\n",
    "\n",
    "\n",
    "vid.release()\n",
    "out.release()"
   ]
  },
  {
   "cell_type": "markdown",
   "metadata": {},
   "source": [
    "#Extract Screen From Gaze Video"
   ]
  },
  {
   "cell_type": "code",
   "execution_count": 2,
   "metadata": {
    "collapsed": true
   },
   "outputs": [],
   "source": [
    "infile = 'images/tobii/border/video/video_disp_gaze.m4v'\n",
    "outfile = 'images/tobii/border/video/video_disp_gaze_screen2.m4v'"
   ]
  },
  {
   "cell_type": "code",
   "execution_count": 1,
   "metadata": {
    "collapsed": false
   },
   "outputs": [],
   "source": [
    "vid = cv2.VideoCapture(infile)\n",
    "\n",
    "size = (1280, 720)\n",
    "fourcc = cv2.cv.CV_FOURCC(*'mp4v')\n",
    "out = cv2.VideoWriter()\n",
    "out.open(outfile, fourcc, vid.get(cv2.cv.CV_CAP_PROP_FPS), size, True)\n",
    "\n",
    "last_good = np.zeros((720, 1280, 3), dtype=np.uint8)  # represents the last good frame\n",
    "\n",
    "i = 1\n",
    "tot = vid.get(cv2.cv.CV_CAP_PROP_FRAME_COUNT)\n",
    "while(vid.isOpened()):\n",
    "    ret, frame = vid.read()\n",
    "    if ret:\n",
    "        proc_frame = process_frame_lines(frame, 'light')\n",
    "        \n",
    "        if proc_frame is None:  # if screen isn't found, save image of frame\n",
    "            out.write(last_good)  # write the last good frame to the video\n",
    "            cv2.imwrite('images/tobii/border/video/dropped/frame%i.bmp'%(i), frame)\n",
    "            pass\n",
    "        else:  # frame is good\n",
    "            last_good = proc_frame\n",
    "            out.write(proc_frame)\n",
    "        i += 1\n",
    "    else:\n",
    "        break\n",
    "\n",
    "\n",
    "vid.release()\n",
    "out.release()"
   ]
  },
  {
   "cell_type": "markdown",
   "metadata": {
    "collapsed": true
   },
   "source": [
    "#Plot Gaze Onto Still Image With Object Detection"
   ]
  },
  {
   "cell_type": "code",
   "execution_count": 8,
   "metadata": {
    "collapsed": false
   },
   "outputs": [],
   "source": [
    "gaze = pd.read_csv('images/feature_matching/tobii_data.csv')\n",
    "vid_sync = pd.read_csv('images/feature_matching/tobii_data_video_sync.csv')\n",
    "\n",
    "gaze['Vid_Time'] = (gaze['index'] - vid_sync.iloc[0][0])/1000000\n",
    "gaze = gaze[gaze.Vid_Time > 0] # only start tracking eyes once video starts\n",
    "\n",
    "infile = 'images/feature_matching/vid_tobii.mp4'\n",
    "outfile = 'images/feature_matching/vid_still_gaze.m4v'"
   ]
  },
  {
   "cell_type": "code",
   "execution_count": 9,
   "metadata": {
    "collapsed": false
   },
   "outputs": [],
   "source": [
    "vid = cv2.VideoCapture(infile)\n",
    "match = cv2.imread('images/feature_matching/match.jpeg')\n",
    "\n",
    "size = (match.shape[1], match.shape[0])\n",
    "fourcc = cv2.cv.CV_FOURCC(*'mp4v')\n",
    "out = cv2.VideoWriter()\n",
    "out.open(outfile, fourcc, vid.get(cv2.cv.CV_CAP_PROP_FPS)*2, size, True)\n",
    "# note doubled framerate to include all eye tracking coordinates\n",
    "\n",
    "i = 1\n",
    "tot = vid.get(cv2.cv.CV_CAP_PROP_FRAME_COUNT)*2\n",
    "\n",
    "gaze_val = gaze['gaze position validity'].values\n",
    "gaze_x = gaze['gaze position x'].values\n",
    "gaze_y = gaze['gaze position y'].values\n",
    "\n",
    "gray_match = cv2.cvtColor(match, cv2.COLOR_BGR2GRAY)\n",
    "\n",
    "while(vid.isOpened()):\n",
    "    ret, frame = vid.read()\n",
    "    if ret:\n",
    "        match_cp = match.copy()\n",
    "        gray_frame = cv2.cvtColor(frame, cv2.COLOR_BGR2GRAY)\n",
    "        M = object_find(gray_match, gray_frame, 10)\n",
    "        for _ in range(2):\n",
    "            if gaze_val[i] == 0 and M is not None and i>250: # i>250 so we don't plot messy period\n",
    "                org_pos = np.array((1920*gaze_x[i], 1080*gaze_y[i])).reshape(-1,1,2)\n",
    "                trans_pos = cv2.perspectiveTransform(org_pos, M)\n",
    "                trans_pos = tuple(np.int32(trans_pos[0,0]))\n",
    "                if (trans_pos[0] <= size[0] and trans_pos[0] >= 0 and\n",
    "                    trans_pos[1] <= size[1] and trans_pos[1] >= 0):\n",
    "                    cv2.circle(match_cp, trans_pos, 8, [255,0,0], -2) # draw blue circle on current frame\n",
    "                    cv2.circle(match, trans_pos, 8, [0,255,0], 2) # draw green circle as trace\n",
    "            out.write(match_cp)\n",
    "            \n",
    "            i += 1\n",
    "        if i%50 == 0:\n",
    "            print '%0.2f%%'%((i/tot)*100)\n",
    "    else:\n",
    "        break\n",
    "\n",
    "\n",
    "vid.release()\n",
    "out.release()"
   ]
  },
  {
   "cell_type": "code",
   "execution_count": null,
   "metadata": {
    "collapsed": true
   },
   "outputs": [],
   "source": []
  }
 ],
 "metadata": {
  "kernelspec": {
   "display_name": "Python 2",
   "language": "python",
   "name": "python2"
  },
  "language_info": {
   "codemirror_mode": {
    "name": "ipython",
    "version": 2
   },
   "file_extension": ".py",
   "mimetype": "text/x-python",
   "name": "python",
   "nbconvert_exporter": "python",
   "pygments_lexer": "ipython2",
   "version": "2.7.10"
  }
 },
 "nbformat": 4,
 "nbformat_minor": 0
}
