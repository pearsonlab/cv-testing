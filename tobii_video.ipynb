{
 "cells": [
  {
   "cell_type": "code",
   "execution_count": 1,
   "metadata": {
    "collapsed": true
   },
   "outputs": [],
   "source": [
    "import cv2\n",
    "import numpy as np\n",
    "import pandas as pd\n",
    "from matplotlib import pyplot as plt\n",
    "%matplotlib inline\n",
    "from find_screen_utils import *\n",
    "from __future__ import division"
   ]
  },
  {
   "cell_type": "markdown",
   "metadata": {},
   "source": [
    "#Add Gaze Position to Video"
   ]
  },
  {
   "cell_type": "code",
   "execution_count": 4,
   "metadata": {
    "collapsed": false
   },
   "outputs": [],
   "source": [
    "gaze = pd.read_csv('images/tobii/border/video/video_disp.csv')\n",
    "vid_sync = pd.read_csv('images/tobii/border/video/video_disp_video_sync.csv')"
   ]
  },
  {
   "cell_type": "code",
   "execution_count": 5,
   "metadata": {
    "collapsed": false,
    "scrolled": false
   },
   "outputs": [
    {
     "data": {
      "text/html": [
       "<div>\n",
       "<table border=\"1\" class=\"dataframe\">\n",
       "  <thead>\n",
       "    <tr style=\"text-align: right;\">\n",
       "      <th></th>\n",
       "      <th>Unnamed: 0</th>\n",
       "      <th>VTS time</th>\n",
       "      <th>VTS validity</th>\n",
       "    </tr>\n",
       "  </thead>\n",
       "  <tbody>\n",
       "    <tr>\n",
       "      <th>0</th>\n",
       "      <td>69017560</td>\n",
       "      <td>0</td>\n",
       "      <td>0</td>\n",
       "    </tr>\n",
       "    <tr>\n",
       "      <th>1</th>\n",
       "      <td>69617620</td>\n",
       "      <td>599844</td>\n",
       "      <td>0</td>\n",
       "    </tr>\n",
       "  </tbody>\n",
       "</table>\n",
       "</div>"
      ],
      "text/plain": [
       "   Unnamed: 0  VTS time  VTS validity\n",
       "0    69017560         0             0\n",
       "1    69617620    599844             0"
      ]
     },
     "execution_count": 5,
     "metadata": {},
     "output_type": "execute_result"
    }
   ],
   "source": [
    "vid_sync.head()"
   ]
  },
  {
   "cell_type": "code",
   "execution_count": 6,
   "metadata": {
    "collapsed": true
   },
   "outputs": [],
   "source": [
    "gaze['Vid_Time'] = (gaze['index'] - 69017560)/1000000"
   ]
  },
  {
   "cell_type": "code",
   "execution_count": 7,
   "metadata": {
    "collapsed": false
   },
   "outputs": [],
   "source": [
    "gaze = gaze[gaze.Vid_Time > 0] # only start tracking eyes once video starts"
   ]
  },
  {
   "cell_type": "code",
   "execution_count": 11,
   "metadata": {
    "collapsed": true
   },
   "outputs": [],
   "source": [
    "infile = 'images/tobii/border/video/fullstream.mp4'\n",
    "outfile = 'images/tobii/border/video/video_disp_gaze.m4v'"
   ]
  },
  {
   "cell_type": "code",
   "execution_count": 12,
   "metadata": {
    "collapsed": false
   },
   "outputs": [],
   "source": [
    "vid = cv2.VideoCapture(infile)\n",
    "\n",
    "size = (1920, 1080)\n",
    "fourcc = cv2.cv.CV_FOURCC(*'mp4v')\n",
    "out = cv2.VideoWriter()\n",
    "out.open(outfile, fourcc, vid.get(cv2.cv.CV_CAP_PROP_FPS)*2, size, True)\n",
    "# note doubled framerate to include all eye tracking coordinates\n",
    "\n",
    "i = 0\n",
    "gaze_val = gaze['gaze position validity'].values\n",
    "gaze_x = gaze['gaze position x'].values\n",
    "gaze_y = gaze['gaze position y'].values\n",
    "\n",
    "while(vid.isOpened()):\n",
    "    ret, frame = vid.read()\n",
    "    if ret:\n",
    "        for _ in range(2):\n",
    "            frame_cp = frame.copy()\n",
    "            if gaze_val[i] == 0:\n",
    "                gp_x = gaze_x[i]\n",
    "                gp_y = gaze_y[i]\n",
    "                cv2.circle(frame_cp, (int(1920*gp_x), int(1080*gp_y)), 20, [255,0,0], 2)\n",
    "            out.write(frame_cp)\n",
    "            i += 1\n",
    "    else:\n",
    "        break\n",
    "\n",
    "\n",
    "vid.release()\n",
    "out.release()"
   ]
  },
  {
   "cell_type": "markdown",
   "metadata": {},
   "source": [
    "#Extract Screen From Gaze Video"
   ]
  },
  {
   "cell_type": "code",
   "execution_count": 2,
   "metadata": {
    "collapsed": true
   },
   "outputs": [],
   "source": [
    "infile = 'images/tobii/border/video/video_disp_gaze.m4v'\n",
    "outfile = 'images/tobii/border/video/video_disp_gaze_screen2.m4v'"
   ]
  },
  {
   "cell_type": "code",
   "execution_count": 3,
   "metadata": {
    "collapsed": false
   },
   "outputs": [
    {
     "name": "stdout",
     "output_type": "stream",
     "text": [
      "4.16%\n",
      "8.31%\n",
      "12.47%\n",
      "16.63%\n",
      "20.78%\n",
      "24.94%\n",
      "29.09%\n",
      "33.25%\n",
      "37.41%\n",
      "41.56%\n",
      "45.72%\n",
      "49.88%\n",
      "54.03%\n",
      "58.19%\n",
      "62.34%\n",
      "66.50%\n",
      "70.66%\n",
      "74.81%\n",
      "78.97%\n",
      "83.13%\n",
      "87.28%\n",
      "91.44%\n",
      "95.59%\n",
      "99.75%\n"
     ]
    }
   ],
   "source": [
    "vid = cv2.VideoCapture(infile)\n",
    "\n",
    "size = (1280, 720)\n",
    "fourcc = cv2.cv.CV_FOURCC(*'mp4v')\n",
    "out = cv2.VideoWriter()\n",
    "out.open(outfile, fourcc, vid.get(cv2.cv.CV_CAP_PROP_FPS), size, True)\n",
    "\n",
    "last_good = np.zeros((720, 1280, 3), dtype=np.uint8)  # represents the last good frame\n",
    "\n",
    "i = 1\n",
    "tot = vid.get(cv2.cv.CV_CAP_PROP_FRAME_COUNT)\n",
    "while(vid.isOpened()):\n",
    "    ret, frame = vid.read()\n",
    "    if ret:\n",
    "        proc_frame = process_frame_lines(frame, 'light')\n",
    "        \n",
    "        if proc_frame is None:  # if screen isn't found, save image of frame\n",
    "            out.write(last_good)  # write the last good frame to the video\n",
    "            cv2.imwrite('images/tobii/border/video/dropped/frame%i.bmp'%(i), frame)\n",
    "            pass\n",
    "        else:  # frame is good\n",
    "            last_good = proc_frame\n",
    "            out.write(proc_frame)\n",
    "        i += 1\n",
    "        if i%50 == 0:\n",
    "            print '%0.2f%%'%((i/tot)*100)\n",
    "    else:\n",
    "        break\n",
    "\n",
    "\n",
    "vid.release()\n",
    "out.release()"
   ]
  },
  {
   "cell_type": "code",
   "execution_count": null,
   "metadata": {
    "collapsed": true
   },
   "outputs": [],
   "source": []
  }
 ],
 "metadata": {
  "kernelspec": {
   "display_name": "Python 2",
   "language": "python",
   "name": "python2"
  },
  "language_info": {
   "codemirror_mode": {
    "name": "ipython",
    "version": 2
   },
   "file_extension": ".py",
   "mimetype": "text/x-python",
   "name": "python",
   "nbconvert_exporter": "python",
   "pygments_lexer": "ipython2",
   "version": "2.7.10"
  }
 },
 "nbformat": 4,
 "nbformat_minor": 0
}
