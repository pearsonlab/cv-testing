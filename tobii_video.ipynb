{
 "cells": [
  {
   "cell_type": "code",
   "execution_count": 1,
   "metadata": {
    "collapsed": true
   },
   "outputs": [],
   "source": [
    "import cv2\n",
    "import numpy as np\n",
    "import pandas as pd\n",
    "from matplotlib import pyplot as plt\n",
    "%matplotlib inline\n",
    "from find_screen_utils import *\n",
    "from find_object_utils import *\n",
    "from __future__ import division"
   ]
  },
  {
   "cell_type": "markdown",
   "metadata": {},
   "source": [
    "#Extract Screen From Gaze Video"
   ]
  },
  {
   "cell_type": "code",
   "execution_count": 2,
   "metadata": {
    "collapsed": true
   },
   "outputs": [],
   "source": [
    "infile = 'images/tobii/border/video/video_disp_gaze.m4v'\n",
    "outfile = 'images/tobii/border/video/video_disp_gaze_screen2.m4v'"
   ]
  },
  {
   "cell_type": "code",
   "execution_count": 1,
   "metadata": {
    "collapsed": false
   },
   "outputs": [],
   "source": [
    "vid = cv2.VideoCapture(infile)\n",
    "\n",
    "size = (1280, 720)\n",
    "fourcc = cv2.cv.CV_FOURCC(*'mp4v')\n",
    "out = cv2.VideoWriter()\n",
    "out.open(outfile, fourcc, vid.get(cv2.cv.CV_CAP_PROP_FPS), size, True)\n",
    "\n",
    "last_good = np.zeros((720, 1280, 3), dtype=np.uint8)  # represents the last good frame\n",
    "\n",
    "i = 1\n",
    "tot = vid.get(cv2.cv.CV_CAP_PROP_FRAME_COUNT)\n",
    "while(vid.isOpened()):\n",
    "    ret, frame = vid.read()\n",
    "    if ret:\n",
    "        proc_frame = process_frame_lines(frame, 'light')\n",
    "        \n",
    "        if proc_frame is None:  # if screen isn't found, save image of frame\n",
    "            out.write(last_good)  # write the last good frame to the video\n",
    "            cv2.imwrite('images/tobii/border/video/dropped/frame%i.bmp'%(i), frame)\n",
    "            pass\n",
    "        else:  # frame is good\n",
    "            last_good = proc_frame\n",
    "            out.write(proc_frame)\n",
    "        i += 1\n",
    "    else:\n",
    "        break\n",
    "\n",
    "\n",
    "vid.release()\n",
    "out.release()"
   ]
  },
  {
   "cell_type": "markdown",
   "metadata": {
    "collapsed": true
   },
   "source": [
    "#Plot Gaze Onto Still Image With Object Detection"
   ]
  },
  {
   "cell_type": "code",
   "execution_count": 2,
   "metadata": {
    "collapsed": false
   },
   "outputs": [],
   "source": [
    "gaze = pd.read_csv('images/gallery/sonhouse.csv')\n",
    "\n",
    "gaze = gaze[~gaze.vts_time.isnull()] # only start tracking eyes once video starts\n",
    "\n",
    "infile = 'images/gallery/sonhouse.mp4'\n",
    "outfile = 'images/gallery/sonhouse_org_gaze.m4v'"
   ]
  },
  {
   "cell_type": "code",
   "execution_count": 3,
   "metadata": {
    "collapsed": false
   },
   "outputs": [
    {
     "name": "stdout",
     "output_type": "stream",
     "text": [
      "1.43%\n",
      "15.76%\n",
      "17.19%\n",
      "18.62%\n",
      "20.06%\n",
      "21.49%\n",
      "22.92%\n",
      "24.36%\n",
      "25.79%\n",
      "27.22%\n",
      "28.65%\n",
      "30.09%\n",
      "31.52%\n",
      "32.95%\n",
      "34.38%\n",
      "35.82%\n",
      "37.25%\n",
      "38.68%\n",
      "40.11%\n",
      "41.55%\n",
      "42.98%\n",
      "44.41%\n",
      "45.85%\n",
      "47.28%\n",
      "48.71%\n",
      "50.14%\n",
      "51.58%\n",
      "53.01%\n",
      "54.44%\n",
      "55.87%\n",
      "57.31%\n",
      "58.74%\n",
      "83.09%\n",
      "84.53%\n",
      "85.96%\n",
      "87.39%\n",
      "88.83%\n",
      "90.26%\n",
      "91.69%\n",
      "93.12%\n",
      "94.56%\n",
      "95.99%\n",
      "97.42%\n"
     ]
    }
   ],
   "source": [
    "vid = cv2.VideoCapture(infile)\n",
    "match = cv2.imread('images/gallery/sonhouse.jpg')\n",
    "gray_match = cv2.cvtColor(match, cv2.COLOR_BGR2GRAY)\n",
    "sift = cv2.SIFT()\n",
    "match_sift = sift.detectAndCompute(gray_match, None)\n",
    "\n",
    "size = (match.shape[1], match.shape[0])\n",
    "fourcc = cv2.cv.CV_FOURCC(*'mp4v')\n",
    "out = cv2.VideoWriter()\n",
    "out.open(outfile, fourcc, vid.get(cv2.cv.CV_CAP_PROP_FPS)*2, size, True)\n",
    "# note doubled framerate to include all eye tracking coordinates\n",
    "\n",
    "i = 1\n",
    "tot = vid.get(cv2.cv.CV_CAP_PROP_FRAME_COUNT)*2\n",
    "\n",
    "gaze_val = gaze['gaze_pos_val'].values\n",
    "gaze_x = gaze['gaze_pos_x'].values\n",
    "gaze_y = gaze['gaze_pos_y'].values\n",
    "vts = gaze['vts_time'].values / 1000.\n",
    "\n",
    "while(vid.isOpened()):\n",
    "    vid_time = vid.get(cv2.cv.CV_CAP_PROP_POS_MSEC)\n",
    "    ret, frame = vid.read()\n",
    "    if ret:\n",
    "        match_cp = match.copy()\n",
    "        gray_frame = cv2.cvtColor(frame, cv2.COLOR_BGR2GRAY)\n",
    "        M = object_find(match_sift, gray_frame, 10)\n",
    "        while vts[i] < vid_time:\n",
    "            if gaze_val[i] == 0 and M is not None:\n",
    "                org_pos = np.array((1920*gaze_x[i], 1080*gaze_y[i])).reshape(-1,1,2)\n",
    "                trans_pos = cv2.perspectiveTransform(org_pos, M)\n",
    "                trans_pos = tuple(np.int32(trans_pos[0,0]))\n",
    "                if (trans_pos[0] <= size[0] and trans_pos[0] >= 0 and\n",
    "                    trans_pos[1] <= size[1] and trans_pos[1] >= 0):\n",
    "                    cv2.circle(match_cp, trans_pos, 8, [255,0,0], -2) # draw blue circle on current frame\n",
    "                    cv2.circle(match, trans_pos, 8, [0,255,0], 2) # draw green circle as trace\n",
    "            out.write(match_cp)\n",
    "            \n",
    "            i += 1\n",
    "        if i%50 == 0:\n",
    "            print '%0.2f%%'%((i/tot)*100)\n",
    "    else:\n",
    "        break\n",
    "\n",
    "\n",
    "vid.release()\n",
    "out.release()"
   ]
  },
  {
   "cell_type": "code",
   "execution_count": null,
   "metadata": {
    "collapsed": true
   },
   "outputs": [],
   "source": []
  }
 ],
 "metadata": {
  "kernelspec": {
   "display_name": "Python 2",
   "language": "python",
   "name": "python2"
  },
  "language_info": {
   "codemirror_mode": {
    "name": "ipython",
    "version": 2
   },
   "file_extension": ".py",
   "mimetype": "text/x-python",
   "name": "python",
   "nbconvert_exporter": "python",
   "pygments_lexer": "ipython2",
   "version": "2.7.11"
  }
 },
 "nbformat": 4,
 "nbformat_minor": 0
}
